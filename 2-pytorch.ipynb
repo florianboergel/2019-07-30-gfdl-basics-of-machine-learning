{
 "cells": [
  {
   "cell_type": "markdown",
   "metadata": {},
   "source": [
    "Training neural networks is essentially a very complicated application of the chain rule in calculus. The basic feature of neural networks libraries like tensorflow (google) or pytorch (facebook) is **automatic differentiation**. This features taking the derivative of arbitrarily complex code. To do this, the system has to keep track of graph of computations that led up to a certain output. There are two ways to keep track of this graph\n",
    "\n",
    "1. Static. The code builds a graph, which is then compiled and executed. This is the approach tensorflow takes.\n",
    "2. Dynamic. The graph is built as the code is executed. This is the approach pytorch takes. Code in this approach looks much like normal imperative python code.\n",
    "\n",
    "Torch implements a numpy-like syntax that should be familiar to most. For some reason, they made small annoying changes to the numpy interface, which IMO is the best possible array interface. Tensorflow does the same things...."
   ]
  },
  {
   "cell_type": "code",
   "execution_count": 7,
   "metadata": {},
   "outputs": [],
   "source": [
    "%matplotlib inline\n",
    "\n",
    "import torch\n",
    "import matplotlib.pyplot as plt"
   ]
  },
  {
   "cell_type": "markdown",
   "metadata": {},
   "source": [
    "Here is how you initialize a torch tensor (e.g. array)"
   ]
  },
  {
   "cell_type": "code",
   "execution_count": 2,
   "metadata": {},
   "outputs": [
    {
     "data": {
      "text/plain": [
       "tensor([0.4072, 0.5207, 0.1551, 0.7769, 0.4643, 0.4301, 0.2313, 0.3698, 0.5858,\n",
       "        0.0340])"
      ]
     },
     "execution_count": 2,
     "metadata": {},
     "output_type": "execute_result"
    }
   ],
   "source": [
    "a = torch.rand(10)\n",
    "a"
   ]
  },
  {
   "cell_type": "markdown",
   "metadata": {},
   "source": [
    "By default, these won't track derivatives"
   ]
  },
  {
   "cell_type": "code",
   "execution_count": 4,
   "metadata": {},
   "outputs": [
    {
     "data": {
      "text/plain": [
       "False"
      ]
     },
     "execution_count": 4,
     "metadata": {},
     "output_type": "execute_result"
    }
   ],
   "source": [
    "a.requires_grad"
   ]
  },
  {
   "cell_type": "markdown",
   "metadata": {},
   "source": [
    "But we can enable that like this"
   ]
  },
  {
   "cell_type": "code",
   "execution_count": 8,
   "metadata": {},
   "outputs": [],
   "source": [
    "a.requires_grad = True"
   ]
  },
  {
   "cell_type": "markdown",
   "metadata": {},
   "source": [
    "Let's take the derivative of a pytohn function"
   ]
  },
  {
   "cell_type": "code",
   "execution_count": 24,
   "metadata": {},
   "outputs": [],
   "source": [
    "def f(x):\n",
    "    return x**2"
   ]
  },
  {
   "cell_type": "code",
   "execution_count": 25,
   "metadata": {},
   "outputs": [
    {
     "data": {
      "text/plain": [
       "tensor(1., grad_fn=<PowBackward0>)"
      ]
     },
     "execution_count": 25,
     "metadata": {},
     "output_type": "execute_result"
    }
   ],
   "source": [
    "x =torch.tensor(1.0, requires_grad=True)\n",
    "y = f(x)\n",
    "y"
   ]
  },
  {
   "cell_type": "markdown",
   "metadata": {},
   "source": [
    "We see that the anwer is 4.0, as expected. Now how do we compute the gradient?"
   ]
  },
  {
   "cell_type": "code",
   "execution_count": 26,
   "metadata": {},
   "outputs": [],
   "source": [
    "y.backward()"
   ]
  },
  {
   "cell_type": "markdown",
   "metadata": {},
   "source": [
    "It is called `backward` because pytorch technically uses \"reverse-mode\" automatic differentiation which is also known as \"back-propagation\". This method is more efficient than forward mode autodiff when there are many more independent than dependent variables. this operation stores the gradient in the `.grad` attribute of a torch tensor."
   ]
  },
  {
   "cell_type": "markdown",
   "metadata": {},
   "source": [
    "Here is the value of $f'(x)=2x$:"
   ]
  },
  {
   "cell_type": "code",
   "execution_count": 27,
   "metadata": {},
   "outputs": [
    {
     "data": {
      "text/plain": [
       "tensor(2.)"
      ]
     },
     "execution_count": 27,
     "metadata": {},
     "output_type": "execute_result"
    }
   ],
   "source": [
    "x.grad"
   ]
  },
  {
   "cell_type": "markdown",
   "metadata": {},
   "source": [
    "This simple concept scales to much more complicated functions, such as an 3 layer neural network"
   ]
  },
  {
   "cell_type": "code",
   "execution_count": 41,
   "metadata": {},
   "outputs": [
    {
     "name": "stdout",
     "output_type": "stream",
     "text": [
      "y is tensor([[0.0871]], grad_fn=<ThAddmmBackward>)\n",
      "\n",
      "dy/dx is tensor([[ 0.0344, -0.0085, -0.0005, -0.0075, -0.0155, -0.0474, -0.0291,  0.0173,\n",
      "          0.0019,  0.0006]])\n"
     ]
    }
   ],
   "source": [
    "from torch import nn\n",
    "\n",
    "\n",
    "f = nn.Sequential(\n",
    "    nn.Linear(10,32),\n",
    "    nn.ReLU(),\n",
    "    nn.Linear(32,32),\n",
    "    nn.ReLU(),\n",
    "    nn.Linear(32,1),\n",
    ")\n",
    "\n",
    "\n",
    "x=  torch.rand(1,10, requires_grad=True)\n",
    "y = f(x)\n",
    "print(\"y is\", y)\n",
    "\n",
    "y.backward()\n",
    "print()\n",
    "print(\"dy/dx is\", x.grad)"
   ]
  },
  {
   "cell_type": "markdown",
   "metadata": {},
   "source": [
    "The parameters of the neural network can be accessed in the `f` object. For instnace, here are the weights of the first layer"
   ]
  },
  {
   "cell_type": "code",
   "execution_count": 46,
   "metadata": {},
   "outputs": [],
   "source": [
    "W1 = f[0].weight"
   ]
  },
  {
   "cell_type": "markdown",
   "metadata": {},
   "source": [
    "And here is the gradient of $y$ with respect to these weights."
   ]
  },
  {
   "cell_type": "code",
   "execution_count": 50,
   "metadata": {},
   "outputs": [
    {
     "data": {
      "text/plain": [
       "tensor([[ 0.0000,  0.0000,  0.0000,  0.0000,  0.0000,  0.0000,  0.0000,  0.0000,\n",
       "          0.0000,  0.0000],\n",
       "        [ 0.0000,  0.0000,  0.0000,  0.0000,  0.0000,  0.0000,  0.0000,  0.0000,\n",
       "          0.0000,  0.0000],\n",
       "        [ 0.0000,  0.0000,  0.0000,  0.0000,  0.0000,  0.0000,  0.0000,  0.0000,\n",
       "          0.0000,  0.0000],\n",
       "        [ 0.0000,  0.0000,  0.0000,  0.0000,  0.0000,  0.0000,  0.0000,  0.0000,\n",
       "          0.0000,  0.0000],\n",
       "        [ 0.0323,  0.0189,  0.0290,  0.0364,  0.0273,  0.0055,  0.0432,  0.0049,\n",
       "          0.0276,  0.0207],\n",
       "        [-0.0517, -0.0304, -0.0465, -0.0584, -0.0438, -0.0088, -0.0694, -0.0079,\n",
       "         -0.0443, -0.0332],\n",
       "        [ 0.0000,  0.0000,  0.0000,  0.0000,  0.0000,  0.0000,  0.0000,  0.0000,\n",
       "          0.0000,  0.0000],\n",
       "        [ 0.0000,  0.0000,  0.0000,  0.0000,  0.0000,  0.0000,  0.0000,  0.0000,\n",
       "          0.0000,  0.0000],\n",
       "        [-0.0289, -0.0170, -0.0260, -0.0326, -0.0245, -0.0049, -0.0387, -0.0044,\n",
       "         -0.0247, -0.0186],\n",
       "        [ 0.0000,  0.0000,  0.0000,  0.0000,  0.0000,  0.0000,  0.0000,  0.0000,\n",
       "          0.0000,  0.0000],\n",
       "        [-0.0054, -0.0032, -0.0048, -0.0061, -0.0046, -0.0009, -0.0072, -0.0008,\n",
       "         -0.0046, -0.0035],\n",
       "        [ 0.0219,  0.0128,  0.0197,  0.0247,  0.0185,  0.0037,  0.0293,  0.0034,\n",
       "          0.0187,  0.0140],\n",
       "        [ 0.0133,  0.0078,  0.0120,  0.0150,  0.0113,  0.0023,  0.0178,  0.0020,\n",
       "          0.0114,  0.0085],\n",
       "        [ 0.0457,  0.0268,  0.0410,  0.0516,  0.0387,  0.0078,  0.0612,  0.0070,\n",
       "          0.0391,  0.0293],\n",
       "        [-0.0092, -0.0054, -0.0083, -0.0104, -0.0078, -0.0016, -0.0123, -0.0014,\n",
       "         -0.0079, -0.0059],\n",
       "        [ 0.0057,  0.0033,  0.0051,  0.0064,  0.0048,  0.0010,  0.0076,  0.0009,\n",
       "          0.0048,  0.0036],\n",
       "        [-0.0334, -0.0196, -0.0300, -0.0377, -0.0283, -0.0057, -0.0448, -0.0051,\n",
       "         -0.0286, -0.0214],\n",
       "        [ 0.0000,  0.0000,  0.0000,  0.0000,  0.0000,  0.0000,  0.0000,  0.0000,\n",
       "          0.0000,  0.0000],\n",
       "        [ 0.0000,  0.0000,  0.0000,  0.0000,  0.0000,  0.0000,  0.0000,  0.0000,\n",
       "          0.0000,  0.0000],\n",
       "        [-0.0225, -0.0132, -0.0203, -0.0255, -0.0191, -0.0038, -0.0302, -0.0035,\n",
       "         -0.0193, -0.0145],\n",
       "        [ 0.0438,  0.0257,  0.0394,  0.0495,  0.0371,  0.0075,  0.0588,  0.0067,\n",
       "          0.0375,  0.0281],\n",
       "        [-0.0300, -0.0176, -0.0270, -0.0339, -0.0254, -0.0051, -0.0402, -0.0046,\n",
       "         -0.0257, -0.0193],\n",
       "        [ 0.0000,  0.0000,  0.0000,  0.0000,  0.0000,  0.0000,  0.0000,  0.0000,\n",
       "          0.0000,  0.0000],\n",
       "        [ 0.0000,  0.0000,  0.0000,  0.0000,  0.0000,  0.0000,  0.0000,  0.0000,\n",
       "          0.0000,  0.0000],\n",
       "        [ 0.0000,  0.0000,  0.0000,  0.0000,  0.0000,  0.0000,  0.0000,  0.0000,\n",
       "          0.0000,  0.0000],\n",
       "        [ 0.0000,  0.0000,  0.0000,  0.0000,  0.0000,  0.0000,  0.0000,  0.0000,\n",
       "          0.0000,  0.0000],\n",
       "        [ 0.0000,  0.0000,  0.0000,  0.0000,  0.0000,  0.0000,  0.0000,  0.0000,\n",
       "          0.0000,  0.0000],\n",
       "        [ 0.0000,  0.0000,  0.0000,  0.0000,  0.0000,  0.0000,  0.0000,  0.0000,\n",
       "          0.0000,  0.0000],\n",
       "        [ 0.0000,  0.0000,  0.0000,  0.0000,  0.0000,  0.0000,  0.0000,  0.0000,\n",
       "          0.0000,  0.0000],\n",
       "        [ 0.0000,  0.0000,  0.0000,  0.0000,  0.0000,  0.0000,  0.0000,  0.0000,\n",
       "          0.0000,  0.0000],\n",
       "        [ 0.0000,  0.0000,  0.0000,  0.0000,  0.0000,  0.0000,  0.0000,  0.0000,\n",
       "          0.0000,  0.0000],\n",
       "        [-0.0247, -0.0145, -0.0222, -0.0279, -0.0209, -0.0042, -0.0332, -0.0038,\n",
       "         -0.0212, -0.0159]])"
      ]
     },
     "execution_count": 50,
     "metadata": {},
     "output_type": "execute_result"
    }
   ],
   "source": [
    "W1.grad"
   ]
  }
 ],
 "metadata": {
  "kernelspec": {
   "display_name": "Python [default]",
   "language": "python",
   "name": "python3"
  },
  "language_info": {
   "codemirror_mode": {
    "name": "ipython",
    "version": 3
   },
   "file_extension": ".py",
   "mimetype": "text/x-python",
   "name": "python",
   "nbconvert_exporter": "python",
   "pygments_lexer": "ipython3",
   "version": "3.6.4"
  }
 },
 "nbformat": 4,
 "nbformat_minor": 2
}
